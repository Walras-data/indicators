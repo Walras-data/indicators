{
 "cells": [
  {
   "cell_type": "code",
   "execution_count": 1,
   "metadata": {},
   "outputs": [],
   "source": [
    "# Define the area\n",
    "class Area:\n",
    "    def __init__(area, name):\n",
    "        area.name = name\n",
    "        \n",
    "    def load_the_database:\n",
    "        ###database\n",
    "coucodes = pd.read_csv(\"CountryCodes.csv\", sep = \";\")\n",
    "countries = coucodes[\"ISO Code\"].tolist()\n",
    "\n",
    "## importing education database\n",
    "\n",
    "education = pd.read_csv('indicatorcodes.csv', encoding = \"ISO-8859-1\")\n",
    "education = education[education[\"Area\"] == \"Education\"]\n",
    "education = education[\"Code\"].tolist()\n",
    "\n",
    "#downloading data from worldbank\n",
    "\n",
    "import pandas_datareader\n",
    "from pandas_datareader import wb\n",
    "\n",
    "worldbank_data = pandas_datareader.wb.download(indicator = education, country = countries, start = 2010, end = 2020, freq = \"A\")\n",
    "worldbank_data2 = pandas_datareader.wb.download(indicator = education, country = countries, start = 2000, end = 2009, freq = \"A\")\n",
    "worldbank_data3 = pandas_datareader.wb.download(indicator = education, country = countries, start = 1990, end = 1999, freq = \"A\")\n",
    "\n",
    "worldbank_data = pd.concat([worldbank_data, worldbank_data2])\n",
    "worldbank_data = pd.concat([worldbank_data, worldbank_data3])"
   ]
  },
  {
   "cell_type": "code",
   "execution_count": null,
   "metadata": {},
   "outputs": [],
   "source": []
  }
 ],
 "metadata": {
  "kernelspec": {
   "display_name": "Python 3",
   "language": "python",
   "name": "python3"
  },
  "language_info": {
   "codemirror_mode": {
    "name": "ipython",
    "version": 3
   },
   "file_extension": ".py",
   "mimetype": "text/x-python",
   "name": "python",
   "nbconvert_exporter": "python",
   "pygments_lexer": "ipython3",
   "version": "3.7.3"
  }
 },
 "nbformat": 4,
 "nbformat_minor": 4
}
