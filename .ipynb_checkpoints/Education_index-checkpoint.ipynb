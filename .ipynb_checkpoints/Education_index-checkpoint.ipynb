{
 "cells": [
  {
   "cell_type": "markdown",
   "metadata": {},
   "source": [
    "# Index - Education\n"
   ]
  },
  {
   "cell_type": "markdown",
   "metadata": {},
   "source": [
    "### 1) Importing the required packages"
   ]
  },
  {
   "cell_type": "code",
   "execution_count": 1,
   "metadata": {
    "scrolled": true
   },
   "outputs": [
    {
     "name": "stderr",
     "output_type": "stream",
     "text": [
      "C:\\Users\\Bebezi\\Anaconda3\\lib\\site-packages\\pandas_datareader\\compat\\__init__.py:7: FutureWarning: pandas.util.testing is deprecated. Use the functions in the public API at pandas.testing instead.\n",
      "  from pandas.util.testing import assert_frame_equal\n",
      "Using TensorFlow backend.\n"
     ]
    }
   ],
   "source": [
    "%run ./functions.ipynb\n",
    "\n",
    "import pandas as pd\n",
    "import numpy as np \n",
    "import pandas_datareader\n",
    "from pandas_datareader import wb\n",
    "from fancyimpute import KNN, SoftImpute, IterativeImputer, BiScaler, NuclearNormMinimization, IterativeSVD  \n",
    "from sklearn import preprocessing\n",
    "from statsmodels.tsa.api import ExponentialSmoothing, SimpleExpSmoothing, Holt\n",
    "import plotly.express as px\n",
    "import plotly.graph_objects as go\n",
    "import matplotlib.pyplot as plt"
   ]
  },
  {
   "cell_type": "markdown",
   "metadata": {},
   "source": [
    "### 2) Download the data"
   ]
  },
  {
   "cell_type": "code",
   "execution_count": 2,
   "metadata": {},
   "outputs": [
    {
     "name": "stderr",
     "output_type": "stream",
     "text": [
      "C:\\Users\\Bebezi\\Anaconda3\\lib\\site-packages\\pandas_datareader\\wb.py:659: UserWarning:\n",
      "\n",
      "No results found from world bank. Indicator: HD.HCI.EYRS\n",
      "\n",
      "C:\\Users\\Bebezi\\Anaconda3\\lib\\site-packages\\pandas_datareader\\wb.py:659: UserWarning:\n",
      "\n",
      "No results found from world bank. Indicator: HD.HCI.EYRS.FE\n",
      "\n",
      "C:\\Users\\Bebezi\\Anaconda3\\lib\\site-packages\\pandas_datareader\\wb.py:659: UserWarning:\n",
      "\n",
      "No results found from world bank. Indicator: HD.HCI.EYRS.MA\n",
      "\n",
      "C:\\Users\\Bebezi\\Anaconda3\\lib\\site-packages\\pandas_datareader\\wb.py:659: UserWarning:\n",
      "\n",
      "Problem with a World Bank Query \n",
      " Invalid format \n",
      "  The indicator was not found. It may have been deleted or archived.. Indicator: IT.NET.EDUC.ZS\n",
      "\n"
     ]
    }
   ],
   "source": [
    "area = \"Education\" #set the indicator area\n",
    "\n",
    "worldbank_data = load_the_database(area = area)"
   ]
  },
  {
   "cell_type": "markdown",
   "metadata": {},
   "source": [
    "### 3) Area-specific data transformation"
   ]
  },
  {
   "cell_type": "code",
   "execution_count": 4,
   "metadata": {},
   "outputs": [],
   "source": [
    "worldbank_data_idx = worldbank_data.reset_index()\n",
    "\n",
    "#from pupil to teacher to teacher to pupil\n",
    "worldbank_data_idx[\"SE.PRM.ENRL.TC.ZS\"] = 1/worldbank_data_idx[\"SE.PRM.ENRL.TC.ZS\"]\n",
    "\n",
    "#And school dropout\n",
    "\n",
    "worldbank_data_idx[\"SE.PRM.DROP.ZS\"] = 1/worldbank_data_idx[\"SE.PRM.DROP.ZS\"]\n",
    "\n",
    "#Mean PISA scores due to high correlation\n",
    "\n",
    "worldbank_data_idx[\"LO.PISA\"] = (worldbank_data_idx[\"LO.PISA.MAT\"]+worldbank_data_idx[\"LO.PISA.REA\"]+worldbank_data_idx[\"LO.PISA.SCI\"])/3\n",
    "\n",
    "\n",
    "#and create a gender education variable\n",
    "\n",
    "#worldbank_data_idx[\"gender_ratio1\"] = worldbank_data_idx[\"SE.SCH.LIFE.FE\"]/worldbank_data_idx[\"SE.SCH.LIFE.MA\"] \n",
    "#worldbank_data_idx[\"gender_ratio2\"] = worldbank_data_idx[\"SE.SEC.CUAT.UP.FE.ZS\"]/worldbank_data_idx[\"SE.SEC.CUAT.UP.MA.ZS\"]\n",
    "#worldbank_data_idx[\"gender_ratio\"] =worldbank_data_idx[[\"gender_ratio1\",\"gender_ratio2\"]].mean(axis = 1)\n",
    "\n",
    "\n",
    "worldbank_data_idx = worldbank_data_idx.drop([\"SE.SCH.LIFE.FE\", \"LO.PISA.MAT\", \"LO.PISA.REA\", \"LO.PISA.SCI\", \"SE.SCH.LIFE.MA\", \"SE.SEC.CUAT.UP.MA.ZS\", \"SE.SEC.CUAT.UP.FE.ZS\"], axis=1)"
   ]
  },
  {
   "cell_type": "markdown",
   "metadata": {},
   "source": [
    "### 4) Imputing the missing data\n"
   ]
  },
  {
   "cell_type": "code",
   "execution_count": 5,
   "metadata": {},
   "outputs": [
    {
     "name": "stderr",
     "output_type": "stream",
     "text": [
      "C:\\Users\\Bebezi\\AppData\\Roaming\\Python\\Python37\\site-packages\\sklearn\\impute\\_iterative.py:638: ConvergenceWarning:\n",
      "\n",
      "[IterativeImputer] Early stopping criterion not reached.\n",
      "\n"
     ]
    }
   ],
   "source": [
    "worldbank_data_filled = impute_missing()"
   ]
  },
  {
   "cell_type": "markdown",
   "metadata": {},
   "source": [
    "### 5) Scaling and forecasting the data"
   ]
  },
  {
   "cell_type": "code",
   "execution_count": 6,
   "metadata": {},
   "outputs": [
    {
     "name": "stderr",
     "output_type": "stream",
     "text": [
      "C:\\Users\\Bebezi\\AppData\\Roaming\\Python\\Python37\\site-packages\\statsmodels\\tsa\\holtwinters.py:731: RuntimeWarning:\n",
      "\n",
      "invalid value encountered in greater_equal\n",
      "\n"
     ]
    }
   ],
   "source": [
    "worldbank_data_scaled = scale_and_forecast()"
   ]
  },
  {
   "cell_type": "markdown",
   "metadata": {},
   "source": [
    "### 6) Build the index (mean, median, pca...)"
   ]
  },
  {
   "cell_type": "code",
   "execution_count": 7,
   "metadata": {},
   "outputs": [],
   "source": [
    "#Taking the mean to build our indicator\n",
    "worldbank_data_scaled[\"indicator\"] = worldbank_data_scaled.mean(axis=1)\n",
    "\n",
    "#Or Median\n",
    "#worldbank_data_scaled[\"indicator\"] = worldbank_data_scaled.median(axis=1)\n",
    "\n",
    "#Or it can be done by using PCA first component weight (no big differences)\n",
    "\n",
    "#from sklearn.decomposition import PCA\n",
    "#pca = PCA(n_components=1)\n",
    "#worldbank_data_scaled[\"indicator\"] = pca.fit_transform(worldbank_data_scaled)\n",
    "\n",
    "\n",
    "\n",
    "\n",
    "worldbank_data_scaled.reset_index(inplace = True)\n",
    "worldbank_data_scaled.year = worldbank_data_scaled.year.astype(int)\n",
    "merged_data = worldbank_data_scaled\n",
    "merged_data[merged_data[\"year\"] == 2019].nlargest(10, 'indicator')"
   ]
  },
  {
   "cell_type": "markdown",
   "metadata": {},
   "source": [
    "### 7) Plot the indicator for each country"
   ]
  },
  {
   "cell_type": "code",
   "execution_count": 9,
   "metadata": {},
   "outputs": [
    {
     "name": "stderr",
     "output_type": "stream",
     "text": [
      "C:\\Users\\Bebezi\\Anaconda3\\lib\\site-packages\\ipykernel_launcher.py:15: SettingWithCopyWarning:\n",
      "\n",
      "\n",
      "A value is trying to be set on a copy of a slice from a DataFrame\n",
      "\n",
      "See the caveats in the documentation: https://pandas.pydata.org/pandas-docs/stable/user_guide/indexing.html#returning-a-view-versus-a-copy\n",
      "\n"
     ]
    }
   ],
   "source": [
    "plot_variable()"
   ]
  },
  {
   "cell_type": "markdown",
   "metadata": {},
   "source": [
    "### 8) Export to a Csv File"
   ]
  },
  {
   "cell_type": "code",
   "execution_count": 2,
   "metadata": {},
   "outputs": [
    {
     "ename": "NameError",
     "evalue": "name 'merged_data' is not defined",
     "output_type": "error",
     "traceback": [
      "\u001b[1;31m---------------------------------------------------------------------------\u001b[0m",
      "\u001b[1;31mNameError\u001b[0m                                 Traceback (most recent call last)",
      "\u001b[1;32m<ipython-input-2-ee3456784c94>\u001b[0m in \u001b[0;36m<module>\u001b[1;34m\u001b[0m\n\u001b[1;32m----> 1\u001b[1;33m \u001b[0mmerged_data\u001b[0m\u001b[1;33m.\u001b[0m\u001b[0mto_csv\u001b[0m\u001b[1;33m(\u001b[0m\u001b[0marea\u001b[0m \u001b[1;33m+\u001b[0m \u001b[1;34m\"_index.csv\"\u001b[0m\u001b[1;33m)\u001b[0m\u001b[1;33m\u001b[0m\u001b[1;33m\u001b[0m\u001b[0m\n\u001b[0m",
      "\u001b[1;31mNameError\u001b[0m: name 'merged_data' is not defined"
     ]
    }
   ],
   "source": [
    "merged_data.to_csv(area + \"_index.csv\")"
   ]
  }
 ],
 "metadata": {
  "kernelspec": {
   "display_name": "Python 3",
   "language": "python",
   "name": "python3"
  },
  "language_info": {
   "codemirror_mode": {
    "name": "ipython",
    "version": 3
   },
   "file_extension": ".py",
   "mimetype": "text/x-python",
   "name": "python",
   "nbconvert_exporter": "python",
   "pygments_lexer": "ipython3",
   "version": "3.7.3"
  }
 },
 "nbformat": 4,
 "nbformat_minor": 4
}
