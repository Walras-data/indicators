{
 "cells": [
  {
   "cell_type": "markdown",
   "metadata": {},
   "source": [
    "# Index - Education\n"
   ]
  },
  {
   "cell_type": "markdown",
   "metadata": {},
   "source": [
    "### 1) Importing the required packages"
   ]
  },
  {
   "cell_type": "code",
   "execution_count": 3,
   "metadata": {
    "scrolled": true
   },
   "outputs": [],
   "source": [
    "%run ./functions.ipynb\n",
    "\n",
    "import pandas as pd\n",
    "import numpy as np \n",
    "import pandas_datareader\n",
    "from pandas_datareader import wb\n",
    "from fancyimpute import KNN, SoftImpute, IterativeImputer, BiScaler, NuclearNormMinimization, IterativeSVD  \n",
    "from sklearn import preprocessing\n",
    "from statsmodels.tsa.api import ExponentialSmoothing, SimpleExpSmoothing, Holt\n",
    "import plotly.express as px\n",
    "import plotly.graph_objects as go\n",
    "import matplotlib.pyplot as plt"
   ]
  },
  {
   "cell_type": "markdown",
   "metadata": {},
   "source": [
    "### 2) Download the data"
   ]
  },
  {
   "cell_type": "code",
   "execution_count": 4,
   "metadata": {},
   "outputs": [
    {
     "name": "stderr",
     "output_type": "stream",
     "text": [
      "C:\\Users\\Bebezi\\Anaconda3\\lib\\site-packages\\pandas_datareader\\wb.py:659: UserWarning:\n",
      "\n",
      "No results found from world bank. Indicator: HD.HCI.EYRS\n",
      "\n",
      "C:\\Users\\Bebezi\\Anaconda3\\lib\\site-packages\\pandas_datareader\\wb.py:659: UserWarning:\n",
      "\n",
      "No results found from world bank. Indicator: HD.HCI.EYRS.FE\n",
      "\n",
      "C:\\Users\\Bebezi\\Anaconda3\\lib\\site-packages\\pandas_datareader\\wb.py:659: UserWarning:\n",
      "\n",
      "No results found from world bank. Indicator: HD.HCI.EYRS.MA\n",
      "\n",
      "C:\\Users\\Bebezi\\Anaconda3\\lib\\site-packages\\pandas_datareader\\wb.py:659: UserWarning:\n",
      "\n",
      "Problem with a World Bank Query \n",
      " Invalid format \n",
      "  The indicator was not found. It may have been deleted or archived.. Indicator: IT.NET.EDUC.ZS\n",
      "\n"
     ]
    }
   ],
   "source": [
    "area = \"Education\" #set the indicator area\n",
    "\n",
    "worldbank_data = load_the_database(area = area)"
   ]
  },
  {
   "cell_type": "markdown",
   "metadata": {},
   "source": [
    "### 3) Area-specific data transformation"
   ]
  },
  {
   "cell_type": "code",
   "execution_count": 5,
   "metadata": {},
   "outputs": [],
   "source": [
    "worldbank_data_idx = worldbank_data.reset_index()\n",
    "\n",
    "#from pupil to teacher to teacher to pupil\n",
    "worldbank_data_idx[\"SE.PRM.ENRL.TC.ZS\"] = 1/worldbank_data_idx[\"SE.PRM.ENRL.TC.ZS\"]\n",
    "\n",
    "#And school dropout\n",
    "\n",
    "worldbank_data_idx[\"SE.PRM.DROP.ZS\"] = 1/worldbank_data_idx[\"SE.PRM.DROP.ZS\"]\n",
    "\n",
    "#Mean PISA scores due to high correlation\n",
    "\n",
    "worldbank_data_idx[\"LO.PISA\"] = (worldbank_data_idx[\"LO.PISA.MAT\"]+worldbank_data_idx[\"LO.PISA.REA\"]+worldbank_data_idx[\"LO.PISA.SCI\"])/3\n",
    "\n",
    "\n",
    "#and create a gender education variable\n",
    "\n",
    "#worldbank_data_idx[\"gender_ratio1\"] = worldbank_data_idx[\"SE.SCH.LIFE.FE\"]/worldbank_data_idx[\"SE.SCH.LIFE.MA\"] \n",
    "#worldbank_data_idx[\"gender_ratio2\"] = worldbank_data_idx[\"SE.SEC.CUAT.UP.FE.ZS\"]/worldbank_data_idx[\"SE.SEC.CUAT.UP.MA.ZS\"]\n",
    "#worldbank_data_idx[\"gender_ratio\"] =worldbank_data_idx[[\"gender_ratio1\",\"gender_ratio2\"]].mean(axis = 1)\n",
    "\n",
    "\n",
    "worldbank_data_idx = worldbank_data_idx.drop([\"SE.SCH.LIFE.FE\", \"LO.PISA.MAT\", \"LO.PISA.REA\", \"LO.PISA.SCI\", \"SE.SCH.LIFE.MA\", \"SE.SEC.CUAT.UP.MA.ZS\", \"SE.SEC.CUAT.UP.FE.ZS\"], axis=1)"
   ]
  },
  {
   "cell_type": "markdown",
   "metadata": {},
   "source": [
    "### 4) Imputing the missing data\n"
   ]
  },
  {
   "cell_type": "code",
   "execution_count": 6,
   "metadata": {},
   "outputs": [
    {
     "name": "stderr",
     "output_type": "stream",
     "text": [
      "C:\\Users\\Bebezi\\AppData\\Roaming\\Python\\Python37\\site-packages\\sklearn\\impute\\_iterative.py:638: ConvergenceWarning:\n",
      "\n",
      "[IterativeImputer] Early stopping criterion not reached.\n",
      "\n"
     ]
    }
   ],
   "source": [
    "worldbank_data_filled = impute_missing()"
   ]
  },
  {
   "cell_type": "markdown",
   "metadata": {},
   "source": [
    "### 5) Scaling and forecasting the data"
   ]
  },
  {
   "cell_type": "code",
   "execution_count": 7,
   "metadata": {},
   "outputs": [
    {
     "name": "stderr",
     "output_type": "stream",
     "text": [
      "C:\\Users\\Bebezi\\AppData\\Roaming\\Python\\Python37\\site-packages\\statsmodels\\tsa\\holtwinters.py:731: RuntimeWarning:\n",
      "\n",
      "invalid value encountered in greater_equal\n",
      "\n"
     ]
    }
   ],
   "source": [
    "worldbank_data_scaled = scale_and_forecast()"
   ]
  },
  {
   "cell_type": "markdown",
   "metadata": {},
   "source": [
    "### 6) Build the index (mean, median, pca...)"
   ]
  },
  {
   "cell_type": "code",
   "execution_count": 8,
   "metadata": {},
   "outputs": [
    {
     "data": {
      "text/html": [
       "<div>\n",
       "<style scoped>\n",
       "    .dataframe tbody tr th:only-of-type {\n",
       "        vertical-align: middle;\n",
       "    }\n",
       "\n",
       "    .dataframe tbody tr th {\n",
       "        vertical-align: top;\n",
       "    }\n",
       "\n",
       "    .dataframe thead th {\n",
       "        text-align: right;\n",
       "    }\n",
       "</style>\n",
       "<table border=\"1\" class=\"dataframe\">\n",
       "  <thead>\n",
       "    <tr style=\"text-align: right;\">\n",
       "      <th></th>\n",
       "      <th>country</th>\n",
       "      <th>year</th>\n",
       "      <th>SE.XPD.TOTL.GD.ZS</th>\n",
       "      <th>SE.PRE.ENRR</th>\n",
       "      <th>UIS.GER.12</th>\n",
       "      <th>SE.SEC.ENRR</th>\n",
       "      <th>SE.TER.ENRR</th>\n",
       "      <th>SE.ADT.LITR.ZS</th>\n",
       "      <th>UIS.EA.MEAN.1T6.AG25T99</th>\n",
       "      <th>SE.SEC.CUAT.UP.ZS</th>\n",
       "      <th>SE.PRM.DROP.ZS</th>\n",
       "      <th>SE.PRM.TCAQ.ZS</th>\n",
       "      <th>SE.PRM.ENRL.TC.ZS</th>\n",
       "      <th>UIS.SR.2.GPV.GLAST.CP.T</th>\n",
       "      <th>SE.SCH.LIFE</th>\n",
       "      <th>BAR.SCHL.25UP</th>\n",
       "      <th>LO.PISA</th>\n",
       "      <th>indicator</th>\n",
       "    </tr>\n",
       "  </thead>\n",
       "  <tbody>\n",
       "    <tr>\n",
       "      <th>1530</th>\n",
       "      <td>Sweden</td>\n",
       "      <td>2019</td>\n",
       "      <td>0.874058</td>\n",
       "      <td>0.822977</td>\n",
       "      <td>0.858816</td>\n",
       "      <td>0.964970</td>\n",
       "      <td>0.880773</td>\n",
       "      <td>0.927005</td>\n",
       "      <td>0.956750</td>\n",
       "      <td>0.936702</td>\n",
       "      <td>0.964110</td>\n",
       "      <td>0.943498</td>\n",
       "      <td>0.961972</td>\n",
       "      <td>0.961456</td>\n",
       "      <td>0.967966</td>\n",
       "      <td>0.971632</td>\n",
       "      <td>0.872873</td>\n",
       "      <td>0.924371</td>\n",
       "    </tr>\n",
       "    <tr>\n",
       "      <th>450</th>\n",
       "      <td>Denmark</td>\n",
       "      <td>2019</td>\n",
       "      <td>0.941618</td>\n",
       "      <td>0.900849</td>\n",
       "      <td>0.887868</td>\n",
       "      <td>0.964963</td>\n",
       "      <td>0.894902</td>\n",
       "      <td>0.709462</td>\n",
       "      <td>0.962908</td>\n",
       "      <td>0.924904</td>\n",
       "      <td>0.988879</td>\n",
       "      <td>0.963881</td>\n",
       "      <td>0.982689</td>\n",
       "      <td>0.843199</td>\n",
       "      <td>0.968746</td>\n",
       "      <td>0.928957</td>\n",
       "      <td>0.863733</td>\n",
       "      <td>0.915170</td>\n",
       "    </tr>\n",
       "    <tr>\n",
       "      <th>1230</th>\n",
       "      <td>Norway</td>\n",
       "      <td>2019</td>\n",
       "      <td>0.909288</td>\n",
       "      <td>0.841299</td>\n",
       "      <td>0.633634</td>\n",
       "      <td>0.957124</td>\n",
       "      <td>0.912043</td>\n",
       "      <td>0.978208</td>\n",
       "      <td>0.958499</td>\n",
       "      <td>0.915902</td>\n",
       "      <td>0.959617</td>\n",
       "      <td>0.926395</td>\n",
       "      <td>0.990332</td>\n",
       "      <td>0.766111</td>\n",
       "      <td>0.975490</td>\n",
       "      <td>0.968970</td>\n",
       "      <td>0.858480</td>\n",
       "      <td>0.903426</td>\n",
       "    </tr>\n",
       "    <tr>\n",
       "      <th>520</th>\n",
       "      <td>Estonia</td>\n",
       "      <td>2019</td>\n",
       "      <td>0.770928</td>\n",
       "      <td>0.915038</td>\n",
       "      <td>0.808870</td>\n",
       "      <td>0.923114</td>\n",
       "      <td>0.858217</td>\n",
       "      <td>0.973012</td>\n",
       "      <td>0.980043</td>\n",
       "      <td>0.959265</td>\n",
       "      <td>0.824022</td>\n",
       "      <td>0.976589</td>\n",
       "      <td>0.895873</td>\n",
       "      <td>0.803880</td>\n",
       "      <td>0.921823</td>\n",
       "      <td>0.970284</td>\n",
       "      <td>0.937889</td>\n",
       "      <td>0.901256</td>\n",
       "    </tr>\n",
       "    <tr>\n",
       "      <th>540</th>\n",
       "      <td>Finland</td>\n",
       "      <td>2019</td>\n",
       "      <td>0.863203</td>\n",
       "      <td>0.619145</td>\n",
       "      <td>0.793119</td>\n",
       "      <td>0.970604</td>\n",
       "      <td>0.957562</td>\n",
       "      <td>0.758815</td>\n",
       "      <td>0.962970</td>\n",
       "      <td>0.869777</td>\n",
       "      <td>0.985781</td>\n",
       "      <td>0.992970</td>\n",
       "      <td>0.824750</td>\n",
       "      <td>0.957304</td>\n",
       "      <td>0.984175</td>\n",
       "      <td>0.900699</td>\n",
       "      <td>0.967059</td>\n",
       "      <td>0.893862</td>\n",
       "    </tr>\n",
       "    <tr>\n",
       "      <th>280</th>\n",
       "      <td>Switzerland</td>\n",
       "      <td>2019</td>\n",
       "      <td>0.660957</td>\n",
       "      <td>0.945838</td>\n",
       "      <td>0.872091</td>\n",
       "      <td>0.836687</td>\n",
       "      <td>0.787849</td>\n",
       "      <td>0.928508</td>\n",
       "      <td>0.978716</td>\n",
       "      <td>0.945678</td>\n",
       "      <td>0.970722</td>\n",
       "      <td>0.974623</td>\n",
       "      <td>0.959291</td>\n",
       "      <td>0.746790</td>\n",
       "      <td>0.912318</td>\n",
       "      <td>0.962256</td>\n",
       "      <td>0.923020</td>\n",
       "      <td>0.893690</td>\n",
       "    </tr>\n",
       "    <tr>\n",
       "      <th>1320</th>\n",
       "      <td>Poland</td>\n",
       "      <td>2019</td>\n",
       "      <td>0.661898</td>\n",
       "      <td>0.658203</td>\n",
       "      <td>0.760483</td>\n",
       "      <td>0.922524</td>\n",
       "      <td>0.863795</td>\n",
       "      <td>0.991483</td>\n",
       "      <td>0.940305</td>\n",
       "      <td>0.937747</td>\n",
       "      <td>0.896917</td>\n",
       "      <td>0.978737</td>\n",
       "      <td>0.963983</td>\n",
       "      <td>0.904183</td>\n",
       "      <td>0.914757</td>\n",
       "      <td>0.941768</td>\n",
       "      <td>0.885602</td>\n",
       "      <td>0.881492</td>\n",
       "    </tr>\n",
       "    <tr>\n",
       "      <th>270</th>\n",
       "      <td>Canada</td>\n",
       "      <td>2019</td>\n",
       "      <td>0.777986</td>\n",
       "      <td>0.694793</td>\n",
       "      <td>0.779789</td>\n",
       "      <td>0.939249</td>\n",
       "      <td>0.948490</td>\n",
       "      <td>0.900345</td>\n",
       "      <td>0.987092</td>\n",
       "      <td>0.939849</td>\n",
       "      <td>0.610180</td>\n",
       "      <td>0.851194</td>\n",
       "      <td>0.820653</td>\n",
       "      <td>0.998821</td>\n",
       "      <td>0.964002</td>\n",
       "      <td>0.977640</td>\n",
       "      <td>0.962386</td>\n",
       "      <td>0.876831</td>\n",
       "    </tr>\n",
       "    <tr>\n",
       "      <th>180</th>\n",
       "      <td>Belarus</td>\n",
       "      <td>2019</td>\n",
       "      <td>0.681521</td>\n",
       "      <td>0.939320</td>\n",
       "      <td>0.909269</td>\n",
       "      <td>0.929168</td>\n",
       "      <td>0.938117</td>\n",
       "      <td>0.989729</td>\n",
       "      <td>0.712680</td>\n",
       "      <td>0.971961</td>\n",
       "      <td>0.902857</td>\n",
       "      <td>0.716688</td>\n",
       "      <td>0.781624</td>\n",
       "      <td>0.910956</td>\n",
       "      <td>0.899872</td>\n",
       "      <td>0.999391</td>\n",
       "      <td>0.793958</td>\n",
       "      <td>0.871807</td>\n",
       "    </tr>\n",
       "    <tr>\n",
       "      <th>1520</th>\n",
       "      <td>Slovenia</td>\n",
       "      <td>2019</td>\n",
       "      <td>0.706772</td>\n",
       "      <td>0.811254</td>\n",
       "      <td>0.676247</td>\n",
       "      <td>0.910975</td>\n",
       "      <td>0.903312</td>\n",
       "      <td>0.987627</td>\n",
       "      <td>0.917835</td>\n",
       "      <td>0.911910</td>\n",
       "      <td>0.942118</td>\n",
       "      <td>0.934935</td>\n",
       "      <td>0.828094</td>\n",
       "      <td>0.749399</td>\n",
       "      <td>0.940939</td>\n",
       "      <td>0.978846</td>\n",
       "      <td>0.876835</td>\n",
       "      <td>0.871807</td>\n",
       "    </tr>\n",
       "  </tbody>\n",
       "</table>\n",
       "</div>"
      ],
      "text/plain": [
       "          country  year  SE.XPD.TOTL.GD.ZS  SE.PRE.ENRR  UIS.GER.12  \\\n",
       "1530       Sweden  2019           0.874058     0.822977    0.858816   \n",
       "450       Denmark  2019           0.941618     0.900849    0.887868   \n",
       "1230       Norway  2019           0.909288     0.841299    0.633634   \n",
       "520       Estonia  2019           0.770928     0.915038    0.808870   \n",
       "540       Finland  2019           0.863203     0.619145    0.793119   \n",
       "280   Switzerland  2019           0.660957     0.945838    0.872091   \n",
       "1320       Poland  2019           0.661898     0.658203    0.760483   \n",
       "270        Canada  2019           0.777986     0.694793    0.779789   \n",
       "180       Belarus  2019           0.681521     0.939320    0.909269   \n",
       "1520     Slovenia  2019           0.706772     0.811254    0.676247   \n",
       "\n",
       "      SE.SEC.ENRR  SE.TER.ENRR  SE.ADT.LITR.ZS  UIS.EA.MEAN.1T6.AG25T99  \\\n",
       "1530     0.964970     0.880773        0.927005                 0.956750   \n",
       "450      0.964963     0.894902        0.709462                 0.962908   \n",
       "1230     0.957124     0.912043        0.978208                 0.958499   \n",
       "520      0.923114     0.858217        0.973012                 0.980043   \n",
       "540      0.970604     0.957562        0.758815                 0.962970   \n",
       "280      0.836687     0.787849        0.928508                 0.978716   \n",
       "1320     0.922524     0.863795        0.991483                 0.940305   \n",
       "270      0.939249     0.948490        0.900345                 0.987092   \n",
       "180      0.929168     0.938117        0.989729                 0.712680   \n",
       "1520     0.910975     0.903312        0.987627                 0.917835   \n",
       "\n",
       "      SE.SEC.CUAT.UP.ZS  SE.PRM.DROP.ZS  SE.PRM.TCAQ.ZS  SE.PRM.ENRL.TC.ZS  \\\n",
       "1530           0.936702        0.964110        0.943498           0.961972   \n",
       "450            0.924904        0.988879        0.963881           0.982689   \n",
       "1230           0.915902        0.959617        0.926395           0.990332   \n",
       "520            0.959265        0.824022        0.976589           0.895873   \n",
       "540            0.869777        0.985781        0.992970           0.824750   \n",
       "280            0.945678        0.970722        0.974623           0.959291   \n",
       "1320           0.937747        0.896917        0.978737           0.963983   \n",
       "270            0.939849        0.610180        0.851194           0.820653   \n",
       "180            0.971961        0.902857        0.716688           0.781624   \n",
       "1520           0.911910        0.942118        0.934935           0.828094   \n",
       "\n",
       "      UIS.SR.2.GPV.GLAST.CP.T  SE.SCH.LIFE  BAR.SCHL.25UP   LO.PISA  indicator  \n",
       "1530                 0.961456     0.967966       0.971632  0.872873   0.924371  \n",
       "450                  0.843199     0.968746       0.928957  0.863733   0.915170  \n",
       "1230                 0.766111     0.975490       0.968970  0.858480   0.903426  \n",
       "520                  0.803880     0.921823       0.970284  0.937889   0.901256  \n",
       "540                  0.957304     0.984175       0.900699  0.967059   0.893862  \n",
       "280                  0.746790     0.912318       0.962256  0.923020   0.893690  \n",
       "1320                 0.904183     0.914757       0.941768  0.885602   0.881492  \n",
       "270                  0.998821     0.964002       0.977640  0.962386   0.876831  \n",
       "180                  0.910956     0.899872       0.999391  0.793958   0.871807  \n",
       "1520                 0.749399     0.940939       0.978846  0.876835   0.871807  "
      ]
     },
     "execution_count": 8,
     "metadata": {},
     "output_type": "execute_result"
    }
   ],
   "source": [
    "#Taking the mean to build our indicator\n",
    "worldbank_data_scaled[\"indicator\"] = worldbank_data_scaled.mean(axis=1)\n",
    "\n",
    "#Or Median\n",
    "#worldbank_data_scaled[\"indicator\"] = worldbank_data_scaled.median(axis=1)\n",
    "\n",
    "#Or it can be done by using PCA first component weight (no big differences)\n",
    "\n",
    "#from sklearn.decomposition import PCA\n",
    "#pca = PCA(n_components=1)\n",
    "#worldbank_data_scaled[\"indicator\"] = pca.fit_transform(worldbank_data_scaled)\n",
    "\n",
    "\n",
    "\n",
    "\n",
    "worldbank_data_scaled.reset_index(inplace = True)\n",
    "worldbank_data_scaled.year = worldbank_data_scaled.year.astype(int)\n",
    "merged_data = worldbank_data_scaled\n",
    "merged_data[merged_data[\"year\"] == 2019].nlargest(10, 'indicator')"
   ]
  },
  {
   "cell_type": "markdown",
   "metadata": {},
   "source": [
    "### 7) Plot the indicator for each country"
   ]
  },
  {
   "cell_type": "code",
   "execution_count": 9,
   "metadata": {},
   "outputs": [
    {
     "name": "stderr",
     "output_type": "stream",
     "text": [
      "C:\\Users\\Bebezi\\Anaconda3\\lib\\site-packages\\ipykernel_launcher.py:15: SettingWithCopyWarning:\n",
      "\n",
      "\n",
      "A value is trying to be set on a copy of a slice from a DataFrame\n",
      "\n",
      "See the caveats in the documentation: https://pandas.pydata.org/pandas-docs/stable/user_guide/indexing.html#returning-a-view-versus-a-copy\n",
      "\n"
     ]
    }
   ],
   "source": [
    "plot_variable()"
   ]
  },
  {
   "cell_type": "markdown",
   "metadata": {},
   "source": [
    "### 8) Export to a Csv File"
   ]
  },
  {
   "cell_type": "code",
   "execution_count": 10,
   "metadata": {},
   "outputs": [],
   "source": [
    "merged_data.to_csv(area + \"_index.csv\")"
   ]
  },
  {
   "cell_type": "code",
   "execution_count": null,
   "metadata": {},
   "outputs": [],
   "source": []
  }
 ],
 "metadata": {
  "kernelspec": {
   "display_name": "Python 3",
   "language": "python",
   "name": "python3"
  },
  "language_info": {
   "codemirror_mode": {
    "name": "ipython",
    "version": 3
   },
   "file_extension": ".py",
   "mimetype": "text/x-python",
   "name": "python",
   "nbconvert_exporter": "python",
   "pygments_lexer": "ipython3",
   "version": "3.7.4"
  }
 },
 "nbformat": 4,
 "nbformat_minor": 4
}
