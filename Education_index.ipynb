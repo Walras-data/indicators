{
 "cells": [
  {
   "cell_type": "markdown",
   "metadata": {},
   "source": [
    "# Index - Education\n"
   ]
  },
  {
   "cell_type": "markdown",
   "metadata": {},
   "source": [
    "### 1) Importing the required packages"
   ]
  },
  {
   "cell_type": "code",
   "execution_count": 6,
   "metadata": {
    "scrolled": true
   },
   "outputs": [],
   "source": [
    "%run ./functions.ipynb\n",
    "\n",
    "import pandas as pd\n",
    "import numpy as np \n",
    "import pandas_datareader\n",
    "from pandas_datareader import wb\n",
    "from fancyimpute import KNN, SoftImpute, IterativeImputer, BiScaler, NuclearNormMinimization, IterativeSVD  \n",
    "from sklearn import preprocessing\n",
    "from statsmodels.tsa.api import ExponentialSmoothing, SimpleExpSmoothing, Holt\n",
    "import plotly.express as px\n",
    "import plotly.graph_objects as go\n",
    "import matplotlib.pyplot as plt"
   ]
  },
  {
   "cell_type": "code",
   "execution_count": 17,
   "metadata": {},
   "outputs": [],
   "source": [
    "coucodes = pd.read_csv(\"CountryCodes.csv\", sep = \";\")\n",
    "countries = coucodes[\"ISO Code\"].tolist()\n",
    "\n",
    "# importing education database\n",
    "\n",
    "education = pd.read_csv('indicatorcodes2.csv', encoding = \"ISO-8859-1\")\n",
    "education = education[education[\"Area\"] == \"Health\"]\n",
    "education = education[education[\"Code\"] != \"*\"]\n",
    "education = education[\"Code\"].tolist()\n",
    "\n",
    "# downloading data from worldbank\n",
    "\n",
    "worldbank_data = pandas_datareader.wb.download(indicator = education, country = countries, start = 2010, end = 2020, freq = \"A\")\n",
    "worldbank_data2 = pandas_datareader.wb.download(indicator = education, country = countries, start = 2000, end = 2009, freq = \"A\")\n",
    "worldbank_data3 = pandas_datareader.wb.download(indicator = education, country = countries, start = 1990, end = 1999, freq = \"A\")\n",
    "\n",
    "worldbank_data = pd.concat([worldbank_data, worldbank_data2])\n",
    "worldbank_data = pd.concat([worldbank_data, worldbank_data3])"
   ]
  },
  {
   "cell_type": "markdown",
   "metadata": {},
   "source": [
    "### 2) Download the data"
   ]
  },
  {
   "cell_type": "code",
   "execution_count": 7,
   "metadata": {},
   "outputs": [
    {
     "ename": "TypeError",
     "evalue": "can only concatenate str (not \"float\") to str",
     "output_type": "error",
     "traceback": [
      "\u001b[1;31m---------------------------------------------------------------------------\u001b[0m",
      "\u001b[1;31mTypeError\u001b[0m                                 Traceback (most recent call last)",
      "\u001b[1;32m<ipython-input-7-248c45e803c9>\u001b[0m in \u001b[0;36m<module>\u001b[1;34m\u001b[0m\n\u001b[0;32m      1\u001b[0m \u001b[0marea\u001b[0m \u001b[1;33m=\u001b[0m \u001b[1;34m\"Health\"\u001b[0m \u001b[1;31m#set the indicator area\u001b[0m\u001b[1;33m\u001b[0m\u001b[1;33m\u001b[0m\u001b[0m\n\u001b[0;32m      2\u001b[0m \u001b[1;33m\u001b[0m\u001b[0m\n\u001b[1;32m----> 3\u001b[1;33m \u001b[0mworldbank_data\u001b[0m \u001b[1;33m=\u001b[0m \u001b[0mload_the_database\u001b[0m\u001b[1;33m(\u001b[0m\u001b[0marea\u001b[0m \u001b[1;33m=\u001b[0m \u001b[0marea\u001b[0m\u001b[1;33m)\u001b[0m\u001b[1;33m\u001b[0m\u001b[1;33m\u001b[0m\u001b[0m\n\u001b[0m",
      "\u001b[1;32m<ipython-input-6-dc6eefef8bf6>\u001b[0m in \u001b[0;36mload_the_database\u001b[1;34m(area)\u001b[0m\n\u001b[0;32m     14\u001b[0m     \u001b[1;31m# downloading data from worldbank\u001b[0m\u001b[1;33m\u001b[0m\u001b[1;33m\u001b[0m\u001b[1;33m\u001b[0m\u001b[0m\n\u001b[0;32m     15\u001b[0m \u001b[1;33m\u001b[0m\u001b[0m\n\u001b[1;32m---> 16\u001b[1;33m     \u001b[0mworldbank_data\u001b[0m \u001b[1;33m=\u001b[0m \u001b[0mpandas_datareader\u001b[0m\u001b[1;33m.\u001b[0m\u001b[0mwb\u001b[0m\u001b[1;33m.\u001b[0m\u001b[0mdownload\u001b[0m\u001b[1;33m(\u001b[0m\u001b[0mindicator\u001b[0m \u001b[1;33m=\u001b[0m \u001b[0meducation\u001b[0m\u001b[1;33m,\u001b[0m \u001b[0mcountry\u001b[0m \u001b[1;33m=\u001b[0m \u001b[0mcountries\u001b[0m\u001b[1;33m,\u001b[0m \u001b[0mstart\u001b[0m \u001b[1;33m=\u001b[0m \u001b[1;36m2010\u001b[0m\u001b[1;33m,\u001b[0m \u001b[0mend\u001b[0m \u001b[1;33m=\u001b[0m \u001b[1;36m2020\u001b[0m\u001b[1;33m,\u001b[0m \u001b[0mfreq\u001b[0m \u001b[1;33m=\u001b[0m \u001b[1;34m\"A\"\u001b[0m\u001b[1;33m)\u001b[0m\u001b[1;33m\u001b[0m\u001b[1;33m\u001b[0m\u001b[0m\n\u001b[0m\u001b[0;32m     17\u001b[0m     \u001b[0mworldbank_data2\u001b[0m \u001b[1;33m=\u001b[0m \u001b[0mpandas_datareader\u001b[0m\u001b[1;33m.\u001b[0m\u001b[0mwb\u001b[0m\u001b[1;33m.\u001b[0m\u001b[0mdownload\u001b[0m\u001b[1;33m(\u001b[0m\u001b[0mindicator\u001b[0m \u001b[1;33m=\u001b[0m \u001b[0meducation\u001b[0m\u001b[1;33m,\u001b[0m \u001b[0mcountry\u001b[0m \u001b[1;33m=\u001b[0m \u001b[0mcountries\u001b[0m\u001b[1;33m,\u001b[0m \u001b[0mstart\u001b[0m \u001b[1;33m=\u001b[0m \u001b[1;36m2000\u001b[0m\u001b[1;33m,\u001b[0m \u001b[0mend\u001b[0m \u001b[1;33m=\u001b[0m \u001b[1;36m2009\u001b[0m\u001b[1;33m,\u001b[0m \u001b[0mfreq\u001b[0m \u001b[1;33m=\u001b[0m \u001b[1;34m\"A\"\u001b[0m\u001b[1;33m)\u001b[0m\u001b[1;33m\u001b[0m\u001b[1;33m\u001b[0m\u001b[0m\n\u001b[0;32m     18\u001b[0m     \u001b[0mworldbank_data3\u001b[0m \u001b[1;33m=\u001b[0m \u001b[0mpandas_datareader\u001b[0m\u001b[1;33m.\u001b[0m\u001b[0mwb\u001b[0m\u001b[1;33m.\u001b[0m\u001b[0mdownload\u001b[0m\u001b[1;33m(\u001b[0m\u001b[0mindicator\u001b[0m \u001b[1;33m=\u001b[0m \u001b[0meducation\u001b[0m\u001b[1;33m,\u001b[0m \u001b[0mcountry\u001b[0m \u001b[1;33m=\u001b[0m \u001b[0mcountries\u001b[0m\u001b[1;33m,\u001b[0m \u001b[0mstart\u001b[0m \u001b[1;33m=\u001b[0m \u001b[1;36m1990\u001b[0m\u001b[1;33m,\u001b[0m \u001b[0mend\u001b[0m \u001b[1;33m=\u001b[0m \u001b[1;36m1999\u001b[0m\u001b[1;33m,\u001b[0m \u001b[0mfreq\u001b[0m \u001b[1;33m=\u001b[0m \u001b[1;34m\"A\"\u001b[0m\u001b[1;33m)\u001b[0m\u001b[1;33m\u001b[0m\u001b[1;33m\u001b[0m\u001b[0m\n",
      "\u001b[1;32m~\\Anaconda3\\lib\\site-packages\\pandas_datareader\\wb.py\u001b[0m in \u001b[0;36mdownload\u001b[1;34m(country, indicator, start, end, freq, errors, **kwargs)\u001b[0m\n\u001b[0;32m    866\u001b[0m         \u001b[0mfreq\u001b[0m\u001b[1;33m=\u001b[0m\u001b[0mfreq\u001b[0m\u001b[1;33m,\u001b[0m\u001b[1;33m\u001b[0m\u001b[1;33m\u001b[0m\u001b[0m\n\u001b[0;32m    867\u001b[0m         \u001b[0merrors\u001b[0m\u001b[1;33m=\u001b[0m\u001b[0merrors\u001b[0m\u001b[1;33m,\u001b[0m\u001b[1;33m\u001b[0m\u001b[1;33m\u001b[0m\u001b[0m\n\u001b[1;32m--> 868\u001b[1;33m         \u001b[1;33m**\u001b[0m\u001b[0mkwargs\u001b[0m\u001b[1;33m\u001b[0m\u001b[1;33m\u001b[0m\u001b[0m\n\u001b[0m\u001b[0;32m    869\u001b[0m     ).read()\n\u001b[0;32m    870\u001b[0m \u001b[1;33m\u001b[0m\u001b[0m\n",
      "\u001b[1;32m~\\Anaconda3\\lib\\site-packages\\pandas_datareader\\wb.py\u001b[0m in \u001b[0;36mread\u001b[1;34m(self)\u001b[0m\n\u001b[0;32m    639\u001b[0m         \u001b[1;34m\"\"\"Read data\"\"\"\u001b[0m\u001b[1;33m\u001b[0m\u001b[1;33m\u001b[0m\u001b[0m\n\u001b[0;32m    640\u001b[0m         \u001b[1;32mtry\u001b[0m\u001b[1;33m:\u001b[0m\u001b[1;33m\u001b[0m\u001b[1;33m\u001b[0m\u001b[0m\n\u001b[1;32m--> 641\u001b[1;33m             \u001b[1;32mreturn\u001b[0m \u001b[0mself\u001b[0m\u001b[1;33m.\u001b[0m\u001b[0m_read\u001b[0m\u001b[1;33m(\u001b[0m\u001b[1;33m)\u001b[0m\u001b[1;33m\u001b[0m\u001b[1;33m\u001b[0m\u001b[0m\n\u001b[0m\u001b[0;32m    642\u001b[0m         \u001b[1;32mfinally\u001b[0m\u001b[1;33m:\u001b[0m\u001b[1;33m\u001b[0m\u001b[1;33m\u001b[0m\u001b[0m\n\u001b[0;32m    643\u001b[0m             \u001b[0mself\u001b[0m\u001b[1;33m.\u001b[0m\u001b[0mclose\u001b[0m\u001b[1;33m(\u001b[0m\u001b[1;33m)\u001b[0m\u001b[1;33m\u001b[0m\u001b[1;33m\u001b[0m\u001b[0m\n",
      "\u001b[1;32m~\\Anaconda3\\lib\\site-packages\\pandas_datareader\\wb.py\u001b[0m in \u001b[0;36m_read\u001b[1;34m(self)\u001b[0m\n\u001b[0;32m    648\u001b[0m             \u001b[1;31m# Build URL for api call\u001b[0m\u001b[1;33m\u001b[0m\u001b[1;33m\u001b[0m\u001b[1;33m\u001b[0m\u001b[0m\n\u001b[0;32m    649\u001b[0m             \u001b[1;32mtry\u001b[0m\u001b[1;33m:\u001b[0m\u001b[1;33m\u001b[0m\u001b[1;33m\u001b[0m\u001b[0m\n\u001b[1;32m--> 650\u001b[1;33m                 \u001b[0mdf\u001b[0m \u001b[1;33m=\u001b[0m \u001b[0mself\u001b[0m\u001b[1;33m.\u001b[0m\u001b[0m_read_one_data\u001b[0m\u001b[1;33m(\u001b[0m\u001b[0mself\u001b[0m\u001b[1;33m.\u001b[0m\u001b[0murl\u001b[0m \u001b[1;33m+\u001b[0m \u001b[0mindicator\u001b[0m\u001b[1;33m,\u001b[0m \u001b[0mself\u001b[0m\u001b[1;33m.\u001b[0m\u001b[0mparams\u001b[0m\u001b[1;33m)\u001b[0m\u001b[1;33m\u001b[0m\u001b[1;33m\u001b[0m\u001b[0m\n\u001b[0m\u001b[0;32m    651\u001b[0m                 \u001b[0mdf\u001b[0m\u001b[1;33m.\u001b[0m\u001b[0mcolumns\u001b[0m \u001b[1;33m=\u001b[0m \u001b[1;33m[\u001b[0m\u001b[1;34m\"country\"\u001b[0m\u001b[1;33m,\u001b[0m \u001b[1;34m\"iso_code\"\u001b[0m\u001b[1;33m,\u001b[0m \u001b[1;34m\"year\"\u001b[0m\u001b[1;33m,\u001b[0m \u001b[0mindicator\u001b[0m\u001b[1;33m]\u001b[0m\u001b[1;33m\u001b[0m\u001b[1;33m\u001b[0m\u001b[0m\n\u001b[0;32m    652\u001b[0m                 \u001b[0mdata\u001b[0m\u001b[1;33m.\u001b[0m\u001b[0mappend\u001b[0m\u001b[1;33m(\u001b[0m\u001b[0mdf\u001b[0m\u001b[1;33m)\u001b[0m\u001b[1;33m\u001b[0m\u001b[1;33m\u001b[0m\u001b[0m\n",
      "\u001b[1;31mTypeError\u001b[0m: can only concatenate str (not \"float\") to str"
     ]
    }
   ],
   "source": [
    "area = \"Health\" #set the indicator area\n",
    "\n",
    "worldbank_data = load_the_database(area = area)"
   ]
  },
  {
   "cell_type": "markdown",
   "metadata": {},
   "source": [
    "### 3) Area-specific data transformation"
   ]
  },
  {
   "cell_type": "code",
   "execution_count": 3,
   "metadata": {},
   "outputs": [],
   "source": [
    "worldbank_data_idx = worldbank_data.reset_index()\n",
    "\n",
    "#from pupil to teacher to teacher to pupil\n",
    "worldbank_data_idx[\"SE.PRM.ENRL.TC.ZS\"] = 1/worldbank_data_idx[\"SE.PRM.ENRL.TC.ZS\"]\n",
    "\n",
    "#And school dropout\n",
    "\n",
    "worldbank_data_idx[\"SE.PRM.DROP.ZS\"] = 1/worldbank_data_idx[\"SE.PRM.DROP.ZS\"]\n",
    "\n",
    "#Mean PISA scores due to high correlation\n",
    "\n",
    "worldbank_data_idx[\"LO.PISA\"] = (worldbank_data_idx[\"LO.PISA.MAT\"]+worldbank_data_idx[\"LO.PISA.REA\"]+worldbank_data_idx[\"LO.PISA.SCI\"])/3\n",
    "\n",
    "\n",
    "#and create a gender education variable\n",
    "\n",
    "#worldbank_data_idx[\"gender_ratio1\"] = worldbank_data_idx[\"SE.SCH.LIFE.FE\"]/worldbank_data_idx[\"SE.SCH.LIFE.MA\"] \n",
    "#worldbank_data_idx[\"gender_ratio2\"] = worldbank_data_idx[\"SE.SEC.CUAT.UP.FE.ZS\"]/worldbank_data_idx[\"SE.SEC.CUAT.UP.MA.ZS\"]\n",
    "#worldbank_data_idx[\"gender_ratio\"] =worldbank_data_idx[[\"gender_ratio1\",\"gender_ratio2\"]].mean(axis = 1)\n",
    "\n",
    "\n",
    "worldbank_data_idx = worldbank_data_idx.drop([\"SE.SCH.LIFE.FE\", \"LO.PISA.MAT\", \"LO.PISA.REA\", \"LO.PISA.SCI\", \"SE.SCH.LIFE.MA\", \"SE.SEC.CUAT.UP.MA.ZS\", \"SE.SEC.CUAT.UP.FE.ZS\"], axis=1)"
   ]
  },
  {
   "cell_type": "markdown",
   "metadata": {},
   "source": [
    "### 4) Imputing the missing data\n"
   ]
  },
  {
   "cell_type": "code",
   "execution_count": 4,
   "metadata": {},
   "outputs": [
    {
     "name": "stderr",
     "output_type": "stream",
     "text": [
      "C:\\Users\\Bebezi\\AppData\\Roaming\\Python\\Python37\\site-packages\\sklearn\\impute\\_iterative.py:638: ConvergenceWarning:\n",
      "\n",
      "[IterativeImputer] Early stopping criterion not reached.\n",
      "\n"
     ]
    }
   ],
   "source": [
    "worldbank_data_filled = impute_missing()"
   ]
  },
  {
   "cell_type": "markdown",
   "metadata": {},
   "source": [
    "### 5) Scaling and forecasting the data"
   ]
  },
  {
   "cell_type": "code",
   "execution_count": 5,
   "metadata": {},
   "outputs": [
    {
     "name": "stderr",
     "output_type": "stream",
     "text": [
      "C:\\Users\\Bebezi\\AppData\\Roaming\\Python\\Python37\\site-packages\\statsmodels\\tsa\\holtwinters.py:731: RuntimeWarning:\n",
      "\n",
      "invalid value encountered in greater_equal\n",
      "\n"
     ]
    }
   ],
   "source": [
    "worldbank_data_scaled = scale_and_forecast()"
   ]
  },
  {
   "cell_type": "markdown",
   "metadata": {},
   "source": [
    "### 6) Build the index (mean, median, pca...)"
   ]
  },
  {
   "cell_type": "code",
   "execution_count": 6,
   "metadata": {},
   "outputs": [
    {
     "data": {
      "text/html": [
       "<div>\n",
       "<style scoped>\n",
       "    .dataframe tbody tr th:only-of-type {\n",
       "        vertical-align: middle;\n",
       "    }\n",
       "\n",
       "    .dataframe tbody tr th {\n",
       "        vertical-align: top;\n",
       "    }\n",
       "\n",
       "    .dataframe thead th {\n",
       "        text-align: right;\n",
       "    }\n",
       "</style>\n",
       "<table border=\"1\" class=\"dataframe\">\n",
       "  <thead>\n",
       "    <tr style=\"text-align: right;\">\n",
       "      <th></th>\n",
       "      <th>country</th>\n",
       "      <th>year</th>\n",
       "      <th>SE.XPD.TOTL.GD.ZS</th>\n",
       "      <th>SE.PRE.ENRR</th>\n",
       "      <th>UIS.GER.12</th>\n",
       "      <th>SE.SEC.ENRR</th>\n",
       "      <th>SE.TER.ENRR</th>\n",
       "      <th>SE.ADT.LITR.ZS</th>\n",
       "      <th>UIS.EA.MEAN.1T6.AG25T99</th>\n",
       "      <th>SE.SEC.CUAT.UP.ZS</th>\n",
       "      <th>SE.PRM.DROP.ZS</th>\n",
       "      <th>SE.PRM.TCAQ.ZS</th>\n",
       "      <th>SE.PRM.ENRL.TC.ZS</th>\n",
       "      <th>UIS.SR.2.GPV.GLAST.CP.T</th>\n",
       "      <th>SE.SCH.LIFE</th>\n",
       "      <th>BAR.SCHL.25UP</th>\n",
       "      <th>LO.PISA</th>\n",
       "      <th>indicator</th>\n",
       "    </tr>\n",
       "  </thead>\n",
       "  <tbody>\n",
       "    <tr>\n",
       "      <th>1530</th>\n",
       "      <td>Sweden</td>\n",
       "      <td>2019</td>\n",
       "      <td>0.872802</td>\n",
       "      <td>0.823233</td>\n",
       "      <td>0.857713</td>\n",
       "      <td>0.969046</td>\n",
       "      <td>0.885658</td>\n",
       "      <td>0.887881</td>\n",
       "      <td>0.956352</td>\n",
       "      <td>0.936870</td>\n",
       "      <td>0.964082</td>\n",
       "      <td>0.943255</td>\n",
       "      <td>0.961976</td>\n",
       "      <td>0.961553</td>\n",
       "      <td>0.967790</td>\n",
       "      <td>0.971548</td>\n",
       "      <td>0.872797</td>\n",
       "      <td>0.922170</td>\n",
       "    </tr>\n",
       "    <tr>\n",
       "      <th>450</th>\n",
       "      <td>Denmark</td>\n",
       "      <td>2019</td>\n",
       "      <td>0.940936</td>\n",
       "      <td>0.902062</td>\n",
       "      <td>0.885384</td>\n",
       "      <td>0.968971</td>\n",
       "      <td>0.899861</td>\n",
       "      <td>0.667391</td>\n",
       "      <td>0.962963</td>\n",
       "      <td>0.925251</td>\n",
       "      <td>0.988900</td>\n",
       "      <td>0.963810</td>\n",
       "      <td>0.982647</td>\n",
       "      <td>0.845002</td>\n",
       "      <td>0.968301</td>\n",
       "      <td>0.928329</td>\n",
       "      <td>0.864456</td>\n",
       "      <td>0.912951</td>\n",
       "    </tr>\n",
       "    <tr>\n",
       "      <th>1230</th>\n",
       "      <td>Norway</td>\n",
       "      <td>2019</td>\n",
       "      <td>0.903814</td>\n",
       "      <td>0.842042</td>\n",
       "      <td>0.629597</td>\n",
       "      <td>0.959970</td>\n",
       "      <td>0.916659</td>\n",
       "      <td>0.967060</td>\n",
       "      <td>0.958300</td>\n",
       "      <td>0.915903</td>\n",
       "      <td>0.960137</td>\n",
       "      <td>0.926291</td>\n",
       "      <td>0.990369</td>\n",
       "      <td>0.767347</td>\n",
       "      <td>0.974975</td>\n",
       "      <td>0.968798</td>\n",
       "      <td>0.858291</td>\n",
       "      <td>0.902637</td>\n",
       "    </tr>\n",
       "    <tr>\n",
       "      <th>520</th>\n",
       "      <td>Estonia</td>\n",
       "      <td>2019</td>\n",
       "      <td>0.769340</td>\n",
       "      <td>0.915118</td>\n",
       "      <td>0.808573</td>\n",
       "      <td>0.923967</td>\n",
       "      <td>0.864780</td>\n",
       "      <td>0.979477</td>\n",
       "      <td>0.979978</td>\n",
       "      <td>0.959418</td>\n",
       "      <td>0.817210</td>\n",
       "      <td>0.974965</td>\n",
       "      <td>0.895910</td>\n",
       "      <td>0.805465</td>\n",
       "      <td>0.921696</td>\n",
       "      <td>0.969944</td>\n",
       "      <td>0.937564</td>\n",
       "      <td>0.901560</td>\n",
       "    </tr>\n",
       "    <tr>\n",
       "      <th>540</th>\n",
       "      <td>Finland</td>\n",
       "      <td>2019</td>\n",
       "      <td>0.860697</td>\n",
       "      <td>0.620408</td>\n",
       "      <td>0.786559</td>\n",
       "      <td>0.974769</td>\n",
       "      <td>0.961344</td>\n",
       "      <td>0.712515</td>\n",
       "      <td>0.962956</td>\n",
       "      <td>0.869897</td>\n",
       "      <td>0.985710</td>\n",
       "      <td>0.992972</td>\n",
       "      <td>0.824641</td>\n",
       "      <td>0.955818</td>\n",
       "      <td>0.983844</td>\n",
       "      <td>0.900034</td>\n",
       "      <td>0.966939</td>\n",
       "      <td>0.890607</td>\n",
       "    </tr>\n",
       "    <tr>\n",
       "      <th>280</th>\n",
       "      <td>Switzerland</td>\n",
       "      <td>2019</td>\n",
       "      <td>0.659601</td>\n",
       "      <td>0.945903</td>\n",
       "      <td>0.871939</td>\n",
       "      <td>0.834994</td>\n",
       "      <td>0.798133</td>\n",
       "      <td>0.877395</td>\n",
       "      <td>0.978526</td>\n",
       "      <td>0.945779</td>\n",
       "      <td>0.968577</td>\n",
       "      <td>0.973405</td>\n",
       "      <td>0.959165</td>\n",
       "      <td>0.746726</td>\n",
       "      <td>0.911753</td>\n",
       "      <td>0.961878</td>\n",
       "      <td>0.922943</td>\n",
       "      <td>0.890448</td>\n",
       "    </tr>\n",
       "    <tr>\n",
       "      <th>1320</th>\n",
       "      <td>Poland</td>\n",
       "      <td>2019</td>\n",
       "      <td>0.660154</td>\n",
       "      <td>0.658126</td>\n",
       "      <td>0.759759</td>\n",
       "      <td>0.923131</td>\n",
       "      <td>0.869517</td>\n",
       "      <td>0.993642</td>\n",
       "      <td>0.940277</td>\n",
       "      <td>0.937946</td>\n",
       "      <td>0.896382</td>\n",
       "      <td>0.977119</td>\n",
       "      <td>0.963682</td>\n",
       "      <td>0.903905</td>\n",
       "      <td>0.914311</td>\n",
       "      <td>0.941640</td>\n",
       "      <td>0.885461</td>\n",
       "      <td>0.881670</td>\n",
       "    </tr>\n",
       "    <tr>\n",
       "      <th>1520</th>\n",
       "      <td>Slovenia</td>\n",
       "      <td>2019</td>\n",
       "      <td>0.705501</td>\n",
       "      <td>0.811708</td>\n",
       "      <td>0.671900</td>\n",
       "      <td>0.911447</td>\n",
       "      <td>0.908990</td>\n",
       "      <td>0.990950</td>\n",
       "      <td>0.917871</td>\n",
       "      <td>0.911922</td>\n",
       "      <td>0.942890</td>\n",
       "      <td>0.938101</td>\n",
       "      <td>0.828172</td>\n",
       "      <td>0.750057</td>\n",
       "      <td>0.940632</td>\n",
       "      <td>0.978813</td>\n",
       "      <td>0.877656</td>\n",
       "      <td>0.872441</td>\n",
       "    </tr>\n",
       "    <tr>\n",
       "      <th>270</th>\n",
       "      <td>Canada</td>\n",
       "      <td>2019</td>\n",
       "      <td>0.776123</td>\n",
       "      <td>0.695103</td>\n",
       "      <td>0.780511</td>\n",
       "      <td>0.941058</td>\n",
       "      <td>0.953614</td>\n",
       "      <td>0.861574</td>\n",
       "      <td>0.987056</td>\n",
       "      <td>0.939951</td>\n",
       "      <td>0.573261</td>\n",
       "      <td>0.850274</td>\n",
       "      <td>0.820856</td>\n",
       "      <td>0.998833</td>\n",
       "      <td>0.964055</td>\n",
       "      <td>0.977564</td>\n",
       "      <td>0.961887</td>\n",
       "      <td>0.872115</td>\n",
       "    </tr>\n",
       "    <tr>\n",
       "      <th>180</th>\n",
       "      <td>Belarus</td>\n",
       "      <td>2019</td>\n",
       "      <td>0.679806</td>\n",
       "      <td>0.939350</td>\n",
       "      <td>0.909111</td>\n",
       "      <td>0.929898</td>\n",
       "      <td>0.943226</td>\n",
       "      <td>0.992224</td>\n",
       "      <td>0.708429</td>\n",
       "      <td>0.971279</td>\n",
       "      <td>0.904198</td>\n",
       "      <td>0.716314</td>\n",
       "      <td>0.780905</td>\n",
       "      <td>0.910896</td>\n",
       "      <td>0.899613</td>\n",
       "      <td>0.999395</td>\n",
       "      <td>0.792871</td>\n",
       "      <td>0.871834</td>\n",
       "    </tr>\n",
       "  </tbody>\n",
       "</table>\n",
       "</div>"
      ],
      "text/plain": [
       "          country  year  SE.XPD.TOTL.GD.ZS  SE.PRE.ENRR  UIS.GER.12  \\\n",
       "1530       Sweden  2019           0.872802     0.823233    0.857713   \n",
       "450       Denmark  2019           0.940936     0.902062    0.885384   \n",
       "1230       Norway  2019           0.903814     0.842042    0.629597   \n",
       "520       Estonia  2019           0.769340     0.915118    0.808573   \n",
       "540       Finland  2019           0.860697     0.620408    0.786559   \n",
       "280   Switzerland  2019           0.659601     0.945903    0.871939   \n",
       "1320       Poland  2019           0.660154     0.658126    0.759759   \n",
       "1520     Slovenia  2019           0.705501     0.811708    0.671900   \n",
       "270        Canada  2019           0.776123     0.695103    0.780511   \n",
       "180       Belarus  2019           0.679806     0.939350    0.909111   \n",
       "\n",
       "      SE.SEC.ENRR  SE.TER.ENRR  SE.ADT.LITR.ZS  UIS.EA.MEAN.1T6.AG25T99  \\\n",
       "1530     0.969046     0.885658        0.887881                 0.956352   \n",
       "450      0.968971     0.899861        0.667391                 0.962963   \n",
       "1230     0.959970     0.916659        0.967060                 0.958300   \n",
       "520      0.923967     0.864780        0.979477                 0.979978   \n",
       "540      0.974769     0.961344        0.712515                 0.962956   \n",
       "280      0.834994     0.798133        0.877395                 0.978526   \n",
       "1320     0.923131     0.869517        0.993642                 0.940277   \n",
       "1520     0.911447     0.908990        0.990950                 0.917871   \n",
       "270      0.941058     0.953614        0.861574                 0.987056   \n",
       "180      0.929898     0.943226        0.992224                 0.708429   \n",
       "\n",
       "      SE.SEC.CUAT.UP.ZS  SE.PRM.DROP.ZS  SE.PRM.TCAQ.ZS  SE.PRM.ENRL.TC.ZS  \\\n",
       "1530           0.936870        0.964082        0.943255           0.961976   \n",
       "450            0.925251        0.988900        0.963810           0.982647   \n",
       "1230           0.915903        0.960137        0.926291           0.990369   \n",
       "520            0.959418        0.817210        0.974965           0.895910   \n",
       "540            0.869897        0.985710        0.992972           0.824641   \n",
       "280            0.945779        0.968577        0.973405           0.959165   \n",
       "1320           0.937946        0.896382        0.977119           0.963682   \n",
       "1520           0.911922        0.942890        0.938101           0.828172   \n",
       "270            0.939951        0.573261        0.850274           0.820856   \n",
       "180            0.971279        0.904198        0.716314           0.780905   \n",
       "\n",
       "      UIS.SR.2.GPV.GLAST.CP.T  SE.SCH.LIFE  BAR.SCHL.25UP   LO.PISA  indicator  \n",
       "1530                 0.961553     0.967790       0.971548  0.872797   0.922170  \n",
       "450                  0.845002     0.968301       0.928329  0.864456   0.912951  \n",
       "1230                 0.767347     0.974975       0.968798  0.858291   0.902637  \n",
       "520                  0.805465     0.921696       0.969944  0.937564   0.901560  \n",
       "540                  0.955818     0.983844       0.900034  0.966939   0.890607  \n",
       "280                  0.746726     0.911753       0.961878  0.922943   0.890448  \n",
       "1320                 0.903905     0.914311       0.941640  0.885461   0.881670  \n",
       "1520                 0.750057     0.940632       0.978813  0.877656   0.872441  \n",
       "270                  0.998833     0.964055       0.977564  0.961887   0.872115  \n",
       "180                  0.910896     0.899613       0.999395  0.792871   0.871834  "
      ]
     },
     "execution_count": 6,
     "metadata": {},
     "output_type": "execute_result"
    }
   ],
   "source": [
    "#Taking the mean to build our indicator\n",
    "worldbank_data_scaled[\"indicator\"] = worldbank_data_scaled.mean(axis=1)\n",
    "\n",
    "#Or Median\n",
    "#worldbank_data_scaled[\"indicator\"] = worldbank_data_scaled.median(axis=1)\n",
    "\n",
    "#Or it can be done by using PCA first component weight (no big differences)\n",
    "\n",
    "#from sklearn.decomposition import PCA\n",
    "#pca = PCA(n_components=1)\n",
    "#worldbank_data_scaled[\"indicator\"] = pca.fit_transform(worldbank_data_scaled)\n",
    "\n",
    "\n",
    "\n",
    "\n",
    "worldbank_data_scaled.reset_index(inplace = True)\n",
    "worldbank_data_scaled.year = worldbank_data_scaled.year.astype(int)\n",
    "merged_data = worldbank_data_scaled\n",
    "merged_data[merged_data[\"year\"] == 2019].nlargest(10, 'indicator')"
   ]
  },
  {
   "cell_type": "markdown",
   "metadata": {},
   "source": [
    "### 7) Plot the indicator for each country"
   ]
  },
  {
   "cell_type": "code",
   "execution_count": 7,
   "metadata": {},
   "outputs": [
    {
     "name": "stderr",
     "output_type": "stream",
     "text": [
      "C:\\Users\\Bebezi\\Anaconda3\\lib\\site-packages\\ipykernel_launcher.py:15: SettingWithCopyWarning:\n",
      "\n",
      "\n",
      "A value is trying to be set on a copy of a slice from a DataFrame\n",
      "\n",
      "See the caveats in the documentation: https://pandas.pydata.org/pandas-docs/stable/user_guide/indexing.html#returning-a-view-versus-a-copy\n",
      "\n"
     ]
    }
   ],
   "source": [
    "plot_variable()"
   ]
  },
  {
   "cell_type": "markdown",
   "metadata": {},
   "source": [
    "### 8) Export to a Csv File"
   ]
  },
  {
   "cell_type": "code",
   "execution_count": 8,
   "metadata": {},
   "outputs": [],
   "source": [
    "merged_data.to_csv(area + \"_index.csv\")"
   ]
  },
  {
   "cell_type": "code",
   "execution_count": null,
   "metadata": {},
   "outputs": [],
   "source": []
  }
 ],
 "metadata": {
  "kernelspec": {
   "display_name": "Python 3",
   "language": "python",
   "name": "python3"
  },
  "language_info": {
   "codemirror_mode": {
    "name": "ipython",
    "version": 3
   },
   "file_extension": ".py",
   "mimetype": "text/x-python",
   "name": "python",
   "nbconvert_exporter": "python",
   "pygments_lexer": "ipython3",
   "version": "3.7.4"
  }
 },
 "nbformat": 4,
 "nbformat_minor": 4
}
